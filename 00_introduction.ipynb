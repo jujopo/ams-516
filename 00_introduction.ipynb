{
 "cells": [
  {
   "cell_type": "markdown",
   "id": "0dfb1138",
   "metadata": {},
   "source": [
    "# Pairs trading with transaction costs"
   ]
  },
  {
   "cell_type": "markdown",
   "id": "80ec4d61",
   "metadata": {},
   "source": [
    "What is pairs trading? \n",
    "\n",
    "[Pairs trading](https://www.investopedia.com/terms/p/pairstrade.asp) is a trading strategy that involves taking simultaneously a long position with a short one in two highly correlated stocks or assets. The strategy relies on choosing two assets that have a high correlation, this is"
   ]
  }
 ],
 "metadata": {
  "language_info": {
   "name": "python"
  }
 },
 "nbformat": 4,
 "nbformat_minor": 5
}
