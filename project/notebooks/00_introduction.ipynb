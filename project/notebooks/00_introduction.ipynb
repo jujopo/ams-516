{
 "cells": [
  {
   "cell_type": "markdown",
   "id": "0dfb1138",
   "metadata": {},
   "source": [
    "# Pairs trading with transaction costs"
   ]
  },
  {
   "cell_type": "markdown",
   "id": "80ec4d61",
   "metadata": {},
   "source": [
    "What is pairs trading? \n",
    "\n",
    "[Pairs trading](https://www.investopedia.com/terms/p/pairstrade.asp) is a market neutral trading strategy—it seeks to avoid some form of market risk entirely, typically by hedging—that involves taking simultaneously a long position with a short one in two highly correlated stocks or assets, this is crucial for the strategy, but finding and maintaining two assets that have a high correlation can be challenging.\n",
    "\n",
    "> The strategy monitors performance of two historically correlated securities. When the correlation between the two securities temporarily weakens, i.e. one stock moves up while the other moves down, the pairs trade would be to short the outperforming stock and to long the underperforming one, betting that the \"spread\" between the two would eventually converge. [1]\n",
    "\n",
    "The divergence within a pair can be caused by temporary supply/demand changes, large buy/sell orders for one security, reaction for important news about one of the companies, and so on.\n",
    "\n",
    "> The reason for the deviated stock to come back to original value is itself an assumption. It is assumed that the pair will have similar business performance as in the past during the holding period of the stock.\n",
    "\n",
    "**Potential drawbacks of the strategy:**\n",
    "\n",
    "- The divergence between the prices of the securities can be a rational response to news related to one of the securities, invalidating the reversion to the mean assumption.\n",
    "- Scarcity of opportunities\n",
    "- Compete with HFT funds\n",
    "\n",
    "Depending on the market sector, there exists multiple reasons for which two historically correlated securities can have differences on it's stock prices, e.g., company A's management could be extremely efficient while company B's management could be not efficient, this can cause stock A to rise and stock B to fall, and in this case it is not certain that stock B could go back to its mean since it's a management efficiency issue, hence shorting A and buying B would result in a potential loss. \n",
    "\n",
    "**Characteristics** \n",
    "\n",
    "- Pairs trading is a mean reverting strategy, betting that the prices will eventually return to historical trends, i.e., overperforming stock will do down to its historical mean and underperforming stock will go up to its historical mean\n",
    "\n",
    "- Pairs trade can hedge sector and market risks, e.g., in case of a market crash, and the two positions going down with it, the trade would result in a gain on the short position and a loss on the long position, leaving a net profit close to breakeven.\n",
    "\n",
    "**Potentially correlated pairs:**\n",
    "\n",
    "- Coca Cola and Pepsi\n",
    "- Walmart and Target\n",
    "- Dell and HP\n",
    "- Ford and General Motors\n",
    "\n",
    "According to Skiena, highly-correlated pairs often (but not always) come from the same sector because they face similar systematic risks."
   ]
  },
  {
   "cell_type": "markdown",
   "id": "8e202e0d",
   "metadata": {},
   "source": [
    "**Example:** \n",
    "\n",
    "> Pepsi (PEP) and Coca-Cola (KO) are different companies that create a similar product, soda pop. Historically, the two companies have shared similar dips and highs, depending on the soda pop market. If the price of Coca-Cola were to go up a significant amount while Pepsi stayed the same, a pairs trader would buy Pepsi stock and sell Coca-Cola stock, assuming that the two companies would later return to their historical balance point. If the price of Pepsi rose to close that gap in price, the trader would make money on the Pepsi stock, while if the price of Coca-Cola fell, they would make money on having shorted the Coca-Cola stock. [2]"
   ]
  },
  {
   "cell_type": "markdown",
   "id": "a3cc7eb7",
   "metadata": {},
   "source": [
    "## References\n",
    "<a id=\"1\">[1]</a> \n",
    "Skiena, S. \n",
    "[Lecture on pairs trading](https://www3.cs.stonybrook.edu/~skiena/691/lectures/lecture23.pdf)\n",
    "\n",
    "<a id=\"2\">[2]</a> \n",
    "Wikipedia. [Pair trading](https://en.wikipedia.org/wiki/Pairs_trade)\n",
    "\n",
    "\n"
   ]
  }
 ],
 "metadata": {
  "language_info": {
   "name": "python"
  }
 },
 "nbformat": 4,
 "nbformat_minor": 5
}
